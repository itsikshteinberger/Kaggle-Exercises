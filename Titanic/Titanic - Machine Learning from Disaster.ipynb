{
 "cells": [
  {
   "cell_type": "markdown",
   "id": "young-indian",
   "metadata": {},
   "source": [
    "# Titanic - Machine Learning from Disaster🛳️\n",
    "\n",
    "#### The project's target : predicting according to certain features whether a person will survive the Titanic accident\n",
    "##### For more details [click here!](https://www.kaggle.com/c/titanic/data)"
   ]
  },
  {
   "cell_type": "markdown",
   "id": "alert-terry",
   "metadata": {},
   "source": [
    "## So how are we going to do that?\n",
    "* *We will try to understand the data*\n",
    "* *We will change some of the data as needed*\n",
    "* *We will run some models of machine learning and see who brings greater success in prediction*\n",
    "* *Finally we will draw some conclusions for future work with the data* 👌"
   ]
  },
  {
   "cell_type": "code",
   "execution_count": 1,
   "id": "charged-marina",
   "metadata": {},
   "outputs": [],
   "source": [
    "#First and foremost: make an import to all the necessary libraries\n",
    "\n",
    "import pandas as pd\n",
    "import numpy as np\n",
    "from sklearn.feature_selection import SelectKBest\n",
    "from sklearn.feature_selection import chi2\n",
    "from sklearn.linear_model import LogisticRegression\n",
    "from sklearn.metrics import accuracy_score\n",
    "from sklearn.metrics import confusion_matrix\n",
    "import matplotlib.mlab as mlab\n",
    "import matplotlib.pyplot as plt\n",
    "from sklearn.ensemble import RandomForestClassifier\n",
    "from sklearn import tree\n",
    "from sklearn.naive_bayes import GaussianNB\n",
    "from sklearn.neighbors import KNeighborsClassifier"
   ]
  },
  {
   "cell_type": "code",
   "execution_count": 2,
   "id": "optical-france",
   "metadata": {},
   "outputs": [],
   "source": [
    "#Read The Data\n",
    "train_x, train_y = (pd.read_csv('data/train.csv')).iloc[:,2:],pd.read_csv('data/train.csv')['Survived']\n",
    "test_x, test_y = (pd.read_csv('data/test.csv')).iloc[:,1:],pd.read_csv('data/gender_submission.csv')['Survived']"
   ]
  },
  {
   "cell_type": "markdown",
   "id": "weird-packing",
   "metadata": {},
   "source": [
    "## Understand the data:\n",
    "\n",
    "In this section we are going to check the distribution of features, whether there are null values, and everything else that is needed for proper data that will eventually lead to good prediction."
   ]
  },
  {
   "cell_type": "code",
   "execution_count": 3,
   "id": "educational-poetry",
   "metadata": {},
   "outputs": [
    {
     "data": {
      "text/html": [
       "<div>\n",
       "<style scoped>\n",
       "    .dataframe tbody tr th:only-of-type {\n",
       "        vertical-align: middle;\n",
       "    }\n",
       "\n",
       "    .dataframe tbody tr th {\n",
       "        vertical-align: top;\n",
       "    }\n",
       "\n",
       "    .dataframe thead th {\n",
       "        text-align: right;\n",
       "    }\n",
       "</style>\n",
       "<table border=\"1\" class=\"dataframe\">\n",
       "  <thead>\n",
       "    <tr style=\"text-align: right;\">\n",
       "      <th></th>\n",
       "      <th>Pclass</th>\n",
       "      <th>Name</th>\n",
       "      <th>Sex</th>\n",
       "      <th>Age</th>\n",
       "      <th>SibSp</th>\n",
       "      <th>Parch</th>\n",
       "      <th>Ticket</th>\n",
       "      <th>Fare</th>\n",
       "      <th>Cabin</th>\n",
       "      <th>Embarked</th>\n",
       "    </tr>\n",
       "  </thead>\n",
       "  <tbody>\n",
       "    <tr>\n",
       "      <th>0</th>\n",
       "      <td>3</td>\n",
       "      <td>Braund, Mr. Owen Harris</td>\n",
       "      <td>male</td>\n",
       "      <td>22.0</td>\n",
       "      <td>1</td>\n",
       "      <td>0</td>\n",
       "      <td>A/5 21171</td>\n",
       "      <td>7.2500</td>\n",
       "      <td>NaN</td>\n",
       "      <td>S</td>\n",
       "    </tr>\n",
       "    <tr>\n",
       "      <th>1</th>\n",
       "      <td>1</td>\n",
       "      <td>Cumings, Mrs. John Bradley (Florence Briggs Th...</td>\n",
       "      <td>female</td>\n",
       "      <td>38.0</td>\n",
       "      <td>1</td>\n",
       "      <td>0</td>\n",
       "      <td>PC 17599</td>\n",
       "      <td>71.2833</td>\n",
       "      <td>C85</td>\n",
       "      <td>C</td>\n",
       "    </tr>\n",
       "    <tr>\n",
       "      <th>2</th>\n",
       "      <td>3</td>\n",
       "      <td>Heikkinen, Miss. Laina</td>\n",
       "      <td>female</td>\n",
       "      <td>26.0</td>\n",
       "      <td>0</td>\n",
       "      <td>0</td>\n",
       "      <td>STON/O2. 3101282</td>\n",
       "      <td>7.9250</td>\n",
       "      <td>NaN</td>\n",
       "      <td>S</td>\n",
       "    </tr>\n",
       "    <tr>\n",
       "      <th>3</th>\n",
       "      <td>1</td>\n",
       "      <td>Futrelle, Mrs. Jacques Heath (Lily May Peel)</td>\n",
       "      <td>female</td>\n",
       "      <td>35.0</td>\n",
       "      <td>1</td>\n",
       "      <td>0</td>\n",
       "      <td>113803</td>\n",
       "      <td>53.1000</td>\n",
       "      <td>C123</td>\n",
       "      <td>S</td>\n",
       "    </tr>\n",
       "    <tr>\n",
       "      <th>4</th>\n",
       "      <td>3</td>\n",
       "      <td>Allen, Mr. William Henry</td>\n",
       "      <td>male</td>\n",
       "      <td>35.0</td>\n",
       "      <td>0</td>\n",
       "      <td>0</td>\n",
       "      <td>373450</td>\n",
       "      <td>8.0500</td>\n",
       "      <td>NaN</td>\n",
       "      <td>S</td>\n",
       "    </tr>\n",
       "  </tbody>\n",
       "</table>\n",
       "</div>"
      ],
      "text/plain": [
       "   Pclass                                               Name     Sex   Age  \\\n",
       "0       3                            Braund, Mr. Owen Harris    male  22.0   \n",
       "1       1  Cumings, Mrs. John Bradley (Florence Briggs Th...  female  38.0   \n",
       "2       3                             Heikkinen, Miss. Laina  female  26.0   \n",
       "3       1       Futrelle, Mrs. Jacques Heath (Lily May Peel)  female  35.0   \n",
       "4       3                           Allen, Mr. William Henry    male  35.0   \n",
       "\n",
       "   SibSp  Parch            Ticket     Fare Cabin Embarked  \n",
       "0      1      0         A/5 21171   7.2500   NaN        S  \n",
       "1      1      0          PC 17599  71.2833   C85        C  \n",
       "2      0      0  STON/O2. 3101282   7.9250   NaN        S  \n",
       "3      1      0            113803  53.1000  C123        S  \n",
       "4      0      0            373450   8.0500   NaN        S  "
      ]
     },
     "execution_count": 3,
     "metadata": {},
     "output_type": "execute_result"
    }
   ],
   "source": [
    "#Looking is always important!\n",
    "train_x.head()"
   ]
  },
  {
   "cell_type": "code",
   "execution_count": 4,
   "id": "aerial-oakland",
   "metadata": {},
   "outputs": [
    {
     "data": {
      "text/html": [
       "<div>\n",
       "<style scoped>\n",
       "    .dataframe tbody tr th:only-of-type {\n",
       "        vertical-align: middle;\n",
       "    }\n",
       "\n",
       "    .dataframe tbody tr th {\n",
       "        vertical-align: top;\n",
       "    }\n",
       "\n",
       "    .dataframe thead th {\n",
       "        text-align: right;\n",
       "    }\n",
       "</style>\n",
       "<table border=\"1\" class=\"dataframe\">\n",
       "  <thead>\n",
       "    <tr style=\"text-align: right;\">\n",
       "      <th></th>\n",
       "      <th>Pclass</th>\n",
       "      <th>Age</th>\n",
       "      <th>SibSp</th>\n",
       "      <th>Parch</th>\n",
       "      <th>Fare</th>\n",
       "    </tr>\n",
       "  </thead>\n",
       "  <tbody>\n",
       "    <tr>\n",
       "      <th>count</th>\n",
       "      <td>891.000000</td>\n",
       "      <td>714.000000</td>\n",
       "      <td>891.000000</td>\n",
       "      <td>891.000000</td>\n",
       "      <td>891.000000</td>\n",
       "    </tr>\n",
       "    <tr>\n",
       "      <th>mean</th>\n",
       "      <td>2.308642</td>\n",
       "      <td>29.699118</td>\n",
       "      <td>0.523008</td>\n",
       "      <td>0.381594</td>\n",
       "      <td>32.204208</td>\n",
       "    </tr>\n",
       "    <tr>\n",
       "      <th>std</th>\n",
       "      <td>0.836071</td>\n",
       "      <td>14.526497</td>\n",
       "      <td>1.102743</td>\n",
       "      <td>0.806057</td>\n",
       "      <td>49.693429</td>\n",
       "    </tr>\n",
       "    <tr>\n",
       "      <th>min</th>\n",
       "      <td>1.000000</td>\n",
       "      <td>0.420000</td>\n",
       "      <td>0.000000</td>\n",
       "      <td>0.000000</td>\n",
       "      <td>0.000000</td>\n",
       "    </tr>\n",
       "    <tr>\n",
       "      <th>25%</th>\n",
       "      <td>2.000000</td>\n",
       "      <td>20.125000</td>\n",
       "      <td>0.000000</td>\n",
       "      <td>0.000000</td>\n",
       "      <td>7.910400</td>\n",
       "    </tr>\n",
       "    <tr>\n",
       "      <th>50%</th>\n",
       "      <td>3.000000</td>\n",
       "      <td>28.000000</td>\n",
       "      <td>0.000000</td>\n",
       "      <td>0.000000</td>\n",
       "      <td>14.454200</td>\n",
       "    </tr>\n",
       "    <tr>\n",
       "      <th>75%</th>\n",
       "      <td>3.000000</td>\n",
       "      <td>38.000000</td>\n",
       "      <td>1.000000</td>\n",
       "      <td>0.000000</td>\n",
       "      <td>31.000000</td>\n",
       "    </tr>\n",
       "    <tr>\n",
       "      <th>max</th>\n",
       "      <td>3.000000</td>\n",
       "      <td>80.000000</td>\n",
       "      <td>8.000000</td>\n",
       "      <td>6.000000</td>\n",
       "      <td>512.329200</td>\n",
       "    </tr>\n",
       "  </tbody>\n",
       "</table>\n",
       "</div>"
      ],
      "text/plain": [
       "           Pclass         Age       SibSp       Parch        Fare\n",
       "count  891.000000  714.000000  891.000000  891.000000  891.000000\n",
       "mean     2.308642   29.699118    0.523008    0.381594   32.204208\n",
       "std      0.836071   14.526497    1.102743    0.806057   49.693429\n",
       "min      1.000000    0.420000    0.000000    0.000000    0.000000\n",
       "25%      2.000000   20.125000    0.000000    0.000000    7.910400\n",
       "50%      3.000000   28.000000    0.000000    0.000000   14.454200\n",
       "75%      3.000000   38.000000    1.000000    0.000000   31.000000\n",
       "max      3.000000   80.000000    8.000000    6.000000  512.329200"
      ]
     },
     "execution_count": 4,
     "metadata": {},
     "output_type": "execute_result"
    }
   ],
   "source": [
    "train_x.describe()"
   ]
  },
  {
   "cell_type": "code",
   "execution_count": 5,
   "id": "hungarian-welding",
   "metadata": {},
   "outputs": [
    {
     "name": "stdout",
     "output_type": "stream",
     "text": [
      "<class 'pandas.core.frame.DataFrame'>\n",
      "RangeIndex: 891 entries, 0 to 890\n",
      "Data columns (total 10 columns):\n",
      " #   Column    Non-Null Count  Dtype  \n",
      "---  ------    --------------  -----  \n",
      " 0   Pclass    891 non-null    int64  \n",
      " 1   Name      891 non-null    object \n",
      " 2   Sex       891 non-null    object \n",
      " 3   Age       714 non-null    float64\n",
      " 4   SibSp     891 non-null    int64  \n",
      " 5   Parch     891 non-null    int64  \n",
      " 6   Ticket    891 non-null    object \n",
      " 7   Fare      891 non-null    float64\n",
      " 8   Cabin     204 non-null    object \n",
      " 9   Embarked  889 non-null    object \n",
      "dtypes: float64(2), int64(3), object(5)\n",
      "memory usage: 69.7+ KB\n"
     ]
    }
   ],
   "source": [
    "#We will check how much null each feature has and based on that we will determine how relevant it is.\n",
    "train_x.info()"
   ]
  },
  {
   "cell_type": "code",
   "execution_count": 6,
   "id": "piano-position",
   "metadata": {},
   "outputs": [
    {
     "name": "stdout",
     "output_type": "stream",
     "text": [
      "Age:\n"
     ]
    },
    {
     "data": {
      "image/png": "[encoded data removed]",
      "text/plain": [
       "<Figure size 432x288 with 1 Axes>"
      ]
     },
     "metadata": {
      "needs_background": "light"
     },
     "output_type": "display_data"
    },
    {
     "name": "stdout",
     "output_type": "stream",
     "text": [
      "Fare:\n"
     ]
    },
    {
     "data": {
      "image/png": "[encoded data removed]",
      "text/plain": [
       "<Figure size 432x288 with 1 Axes>"
      ]
     },
     "metadata": {
      "needs_background": "light"
     },
     "output_type": "display_data"
    },
    {
     "name": "stdout",
     "output_type": "stream",
     "text": [
      "SibSp:\n"
     ]
    },
    {
     "data": {
      "image/png": "[encoded data removed]",
      "text/plain": [
       "<Figure size 432x288 with 1 Axes>"
      ]
     },
     "metadata": {
      "needs_background": "light"
     },
     "output_type": "display_data"
    },
    {
     "name": "stdout",
     "output_type": "stream",
     "text": [
      "Parch:\n"
     ]
    },
    {
     "data": {
      "image/png": "[encoded data removed]",
      "text/plain": [
       "<Figure size 432x288 with 1 Axes>"
      ]
     },
     "metadata": {
      "needs_background": "light"
     },
     "output_type": "display_data"
    },
    {
     "name": "stdout",
     "output_type": "stream",
     "text": [
      "Sex:\n"
     ]
    },
    {
     "data": {
      "image/png": "[encoded data removed]",
      "text/plain": [
       "<Figure size 432x288 with 1 Axes>"
      ]
     },
     "metadata": {
      "needs_background": "light"
     },
     "output_type": "display_data"
    },
    {
     "name": "stdout",
     "output_type": "stream",
     "text": [
      "SibSp:\n"
     ]
    },
    {
     "data": {
      "image/png": "[encoded data removed]",
      "text/plain": [
       "<Figure size 432x288 with 1 Axes>"
      ]
     },
     "metadata": {
      "needs_background": "light"
     },
     "output_type": "display_data"
    },
    {
     "name": "stdout",
     "output_type": "stream",
     "text": [
      "Parch:\n"
     ]
    },
    {
     "data": {
      "image/png": "[encoded data removed]",
      "text/plain": [
       "<Figure size 432x288 with 1 Axes>"
      ]
     },
     "metadata": {
      "needs_background": "light"
     },
     "output_type": "display_data"
    }
   ],
   "source": [
    "#Let's look at the type of distribution to avoid future prediction faults (Relevant to numeric values & Sex)\n",
    "\n",
    "for i in ['Age','Fare','SibSp','Parch','Sex','SibSp','Parch']:\n",
    "    plt.hist(train_x[i], 10, facecolor='blue', alpha=0.5)\n",
    "    print('{}:'.format(i))\n",
    "    plt.show()"
   ]
  },
  {
   "cell_type": "markdown",
   "id": "saving-outreach",
   "metadata": {},
   "source": [
    "*Conclusions so far:*\n",
    "- The cabin feature contains too many null values - it may harm our prediction\n",
    "- The age distribution is normal - so far so good\n",
    "- It seems that too many passengers have the same amount of family members on the Titanic - maybe it does not matter in the end?"
   ]
  },
  {
   "cell_type": "code",
   "execution_count": 7,
   "id": "respected-layer",
   "metadata": {},
   "outputs": [
    {
     "data": {
      "text/html": [
       "<div>\n",
       "<style scoped>\n",
       "    .dataframe tbody tr th:only-of-type {\n",
       "        vertical-align: middle;\n",
       "    }\n",
       "\n",
       "    .dataframe tbody tr th {\n",
       "        vertical-align: top;\n",
       "    }\n",
       "\n",
       "    .dataframe thead th {\n",
       "        text-align: right;\n",
       "    }\n",
       "</style>\n",
       "<table border=\"1\" class=\"dataframe\">\n",
       "  <thead>\n",
       "    <tr style=\"text-align: right;\">\n",
       "      <th></th>\n",
       "      <th>Age</th>\n",
       "      <th>Fare</th>\n",
       "      <th>Parch</th>\n",
       "      <th>SibSp</th>\n",
       "    </tr>\n",
       "    <tr>\n",
       "      <th>Survived</th>\n",
       "      <th></th>\n",
       "      <th></th>\n",
       "      <th></th>\n",
       "      <th></th>\n",
       "    </tr>\n",
       "  </thead>\n",
       "  <tbody>\n",
       "    <tr>\n",
       "      <th>0</th>\n",
       "      <td>30.626179</td>\n",
       "      <td>22.117887</td>\n",
       "      <td>0.329690</td>\n",
       "      <td>0.553734</td>\n",
       "    </tr>\n",
       "    <tr>\n",
       "      <th>1</th>\n",
       "      <td>28.343690</td>\n",
       "      <td>48.395408</td>\n",
       "      <td>0.464912</td>\n",
       "      <td>0.473684</td>\n",
       "    </tr>\n",
       "  </tbody>\n",
       "</table>\n",
       "</div>"
      ],
      "text/plain": [
       "                Age       Fare     Parch     SibSp\n",
       "Survived                                          \n",
       "0         30.626179  22.117887  0.329690  0.553734\n",
       "1         28.343690  48.395408  0.464912  0.473684"
      ]
     },
     "execution_count": 7,
     "metadata": {},
     "output_type": "execute_result"
    }
   ],
   "source": [
    "#Here we can understand the characteristics of the surviving and dead passengers\n",
    "pd.pivot_table(pd.read_csv('data/train.csv'), index = 'Survived' ,values = ['Age','Fare','Parch','SibSp'])"
   ]
  },
  {
   "cell_type": "code",
   "execution_count": 8,
   "id": "thrown-crossing",
   "metadata": {},
   "outputs": [
    {
     "data": {
      "text/plain": [
       "Mr.          517\n",
       "Miss.        182\n",
       "Mrs.         125\n",
       "Master.       40\n",
       "Dr.            7\n",
       "Rev.           6\n",
       "Col.           2\n",
       "Mlle.          2\n",
       "Major.         2\n",
       "Mme.           1\n",
       "Don.           1\n",
       "Lady.          1\n",
       "Ms.            1\n",
       "Sir.           1\n",
       "the            1\n",
       "Jonkheer.      1\n",
       "Capt.          1\n",
       "Name: Name, dtype: int64"
      ]
     },
     "execution_count": 8,
     "metadata": {},
     "output_type": "execute_result"
    }
   ],
   "source": [
    "'''At first it seemed to me that there was a correlation between the passenger's nickname and the chance that he would survive,\n",
    "after some model training - I did not see a dramatic change'''\n",
    "\n",
    "train_x['Name'].str.split(',').str[1].str.split(' ').str[1].value_counts()"
   ]
  },
  {
   "cell_type": "code",
   "execution_count": 9,
   "id": "apparent-bride",
   "metadata": {},
   "outputs": [
    {
     "name": "stdout",
     "output_type": "stream",
     "text": [
      "Sex       female  male\n",
      "Survived              \n",
      "0             81   468\n",
      "1            233   109\n",
      "\n",
      "Embarked   C   Q    S\n",
      "Survived             \n",
      "0         75  47  427\n",
      "1         93  30  217\n",
      "\n",
      "Pclass      1   2    3\n",
      "Survived              \n",
      "0          80  97  372\n",
      "1         136  87  119\n",
      "\n"
     ]
    }
   ],
   "source": [
    "#Here one can explicitly see the effect of the features on the chances of survival\n",
    "\n",
    "print(pd.pivot_table(pd.read_csv('data/train.csv'),index = 'Survived',columns='Sex',values='Ticket',aggfunc='count'))\n",
    "print()\n",
    "print(pd.pivot_table(pd.read_csv('data/train.csv'),index = 'Survived',columns='Embarked',values='Ticket',aggfunc='count'))\n",
    "print()\n",
    "print(pd.pivot_table(pd.read_csv('data/train.csv'),index = 'Survived',columns='Pclass',values='Ticket',aggfunc='count'))\n",
    "print()"
   ]
  },
  {
   "cell_type": "markdown",
   "id": "widespread-hometown",
   "metadata": {},
   "source": [
    "## Play with the data:\n",
    "It is clear that not all features affect equally and it is clear that not all data is built perfectly, in the next section we are going to deal with these problems."
   ]
  },
  {
   "cell_type": "code",
   "execution_count": 10,
   "id": "center-guidance",
   "metadata": {},
   "outputs": [],
   "source": [
    "#First thing: replace a categorical variable with a numeric variable so that our model can handle it\n",
    "gender = {'male': 0,'female': 1}\n",
    "  \n",
    "# traversing through dataframe\n",
    "# Gender column and writing\n",
    "# values where key matches\n",
    "train_x['Sex'] = [gender[item] for item in train_x['Sex']]\n",
    "test_x['Sex'] = [gender[item] for item in test_x['Sex']]"
   ]
  },
  {
   "cell_type": "code",
   "execution_count": 11,
   "id": "smart-wagon",
   "metadata": {},
   "outputs": [],
   "source": [
    "'''\n",
    "Now some explanation is needed as to why we are getting rid of the following features:\n",
    "Ticket - The only thing that a travel card can affect - is the location of the cabin, not all relevant when we have Pclass\n",
    "Cabin - In an alternative reality - it can have an effect, \n",
    "        but there are too many null values so it is difficult to draw conclusions about correlation\n",
    "Name - Like I said, the nickname did not have much effect and the rest of the name has no reason to have an effect\n",
    "Embarked - This feature should not have an impact in my humble opinion        \n",
    "'''\n",
    "\n",
    "train_x =train_x.drop(columns=['Ticket','Cabin','Name','Embarked'])\n",
    "test_x = test_x.drop(columns=['Ticket','Cabin','Name','Embarked'])\n",
    "\n",
    "# Since the distribution is normal, it is worth replacing null on average\n",
    "train_x['Age'].fillna((train_x['Age'].mean()), inplace=True)\n",
    "test_x['Age'].fillna((test_x['Age'].mean()), inplace=True)"
   ]
  },
  {
   "cell_type": "code",
   "execution_count": 12,
   "id": "collect-swiss",
   "metadata": {},
   "outputs": [],
   "source": [
    "'''\n",
    "I found that there is a bit of null fare in test data \n",
    "- so by the distribution it makes sense to replace null with the most frequent value\n",
    "'''\n",
    "\n",
    "if(test_x['Fare'].isnull().values.any()):\n",
    "    test_x['Fare'].fillna((test_x['Fare'].value_counts().idxmax()), inplace=True)"
   ]
  },
  {
   "cell_type": "code",
   "execution_count": 13,
   "id": "peripheral-agency",
   "metadata": {},
   "outputs": [
    {
     "name": "stdout",
     "output_type": "stream",
     "text": [
      "    Specs        Score\n",
      "5    Fare  4518.319091\n",
      "1     Sex   170.348127\n",
      "0  Pclass    30.873699\n",
      "2     Age    24.687926\n",
      "4   Parch    10.097499\n",
      "3   SibSp     2.581865\n"
     ]
    }
   ],
   "source": [
    "'''\n",
    "Now it is possible to test the hypotheses with some statistics.\n",
    "We now measure the correlation of the various features with the labels using a chi square test.\n",
    "'''\n",
    "\n",
    "#apply SelectKBest class to extract the best features\n",
    "bestfeatures = SelectKBest(score_func=chi2, k='all')\n",
    "fit = bestfeatures.fit(train_x,train_y)\n",
    "dfscores = pd.DataFrame(fit.scores_)\n",
    "dfcolumns = pd.DataFrame(train_x.columns)\n",
    "#concat two dataframes for better visualization \n",
    "featureScores = pd.concat([dfcolumns,dfscores],axis=1)\n",
    "featureScores.columns = ['Specs','Score']  #naming the dataframe columns\n",
    "print(featureScores.nlargest(10,'Score'))  #print all best features"
   ]
  },
  {
   "cell_type": "code",
   "execution_count": 14,
   "id": "willing-steal",
   "metadata": {},
   "outputs": [],
   "source": [
    "#Now it makes sense to download the features with the lowest correlation\n",
    "train_x =train_x.drop(columns=['SibSp','Parch'])\n",
    "test_x = test_x.drop(columns=['SibSp','Parch'])"
   ]
  },
  {
   "cell_type": "markdown",
   "id": "suited-hearts",
   "metadata": {},
   "source": [
    "## Training and predicting of different models:\n",
    "After looking at the data and designing it - it's time to use it!<br>\n",
    "We will train 5 different models and then try to predict using them the test data results, and we will see which model brings the best accuracy result.<br>\n",
    "The models are:\n",
    "- __Logistic Regression (95.69%)__\n",
    "- Random Forest (95.45%)\n",
    "- __Decision Tree (95.69%)__\n",
    "- Gaussian classifier (94.98%)\n",
    "- KNN (70.1%)"
   ]
  },
  {
   "cell_type": "code",
   "execution_count": 15,
   "id": "acceptable-chase",
   "metadata": {},
   "outputs": [
    {
     "name": "stdout",
     "output_type": "stream",
     "text": [
      "Logistic Regression Accuracy: 95.69%\n"
     ]
    }
   ],
   "source": [
    "lr_model = LogisticRegression(random_state=0).fit(train_x, train_y)\n",
    "print('Logistic Regression Accuracy: {:.2f}%'.format(100*accuracy_score(test_y, lr_model.predict(test_x))))"
   ]
  },
  {
   "cell_type": "code",
   "execution_count": 16,
   "id": "ambient-saudi",
   "metadata": {},
   "outputs": [
    {
     "name": "stdout",
     "output_type": "stream",
     "text": [
      "Random Forest Accuracy: 95.45%\n"
     ]
    }
   ],
   "source": [
    "rfc_model = RandomForestClassifier(max_depth=4, random_state=0).fit(train_x, train_y)\n",
    "print('Random Forest Accuracy: {:.2f}%'.format(100*accuracy_score(test_y, rfc_model.predict(test_x))))"
   ]
  },
  {
   "cell_type": "code",
   "execution_count": 17,
   "id": "integrated-clock",
   "metadata": {},
   "outputs": [
    {
     "name": "stdout",
     "output_type": "stream",
     "text": [
      "Decision Tree Accuracy: 95.69%\n"
     ]
    }
   ],
   "source": [
    "dt_model = tree.DecisionTreeClassifier(random_state=0, max_depth=4).fit(train_x,train_y)\n",
    "print('Decision Tree Accuracy: {:.2f}%'.format(100*accuracy_score(test_y, dt_model.predict(test_x))))"
   ]
  },
  {
   "cell_type": "code",
   "execution_count": 18,
   "id": "latin-status",
   "metadata": {},
   "outputs": [
    {
     "name": "stdout",
     "output_type": "stream",
     "text": [
      "Gaussian Classifier Accuracy: 94.98%\n"
     ]
    }
   ],
   "source": [
    "gnb_model = GaussianNB().fit(train_x,train_y)\n",
    "print('Gaussian Classifier Accuracy: {:.2f}%'.format(100*accuracy_score(test_y, gnb_model.predict(test_x))))"
   ]
  },
  {
   "cell_type": "code",
   "execution_count": 19,
   "id": "upper-proportion",
   "metadata": {},
   "outputs": [
    {
     "name": "stdout",
     "output_type": "stream",
     "text": [
      "KNN Accuracy: 70.10%\n"
     ]
    }
   ],
   "source": [
    "nbrs_model = KNeighborsClassifier(n_neighbors=7).fit(train_x,train_y)\n",
    "print('KNN Accuracy: {:.2f}%'.format(100*accuracy_score(test_y, nbrs_model.predict(test_x))))"
   ]
  },
  {
   "cell_type": "markdown",
   "id": "prepared-paper",
   "metadata": {},
   "source": [
    "## Conclusions:\n",
    "- With the exception of KNN (which may be less recommended in binary classification) they all brought good results but Logistic Regression & Decision Tree were the best models.\n",
    "- The most significant feature was Fare (Which is a bit sad).\n",
    "- From 1st class there were more proportionally survivors (Which makes perfect sense given the effect of the fare).\n",
    "- The number of family members does not have such a strong influence (it turns out that people take care of themselves more).\n",
    "- Since the results are quite close in all models and quite high it can be assumed that the error is in the same 5% passengers all the time, it will be interesting at times to research them to see what is different in them and thus improve the model.\n",
    "- Following previous experiments - __doing scaling will lead to terrible results!!__ (Which means that the fare affects by a considerable margin from the rest)."
   ]
  },
  {
   "cell_type": "markdown",
   "id": "painted-salvation",
   "metadata": {},
   "source": [
    "<img src=\"https://images.pexels.com/photos/37859/sailing-ship-vessel-boat-sea-37859.jpeg?auto=compress&cs=tinysrgb&dpr=1&w=500\">"
   ]
  }
 ],
 "metadata": {
  "kernelspec": {
   "display_name": "Python 3",
   "language": "python",
   "name": "python3"
  },
  "language_info": {
   "codemirror_mode": {
    "name": "ipython",
    "version": 3
   },
   "file_extension": ".py",
   "mimetype": "text/x-python",
   "name": "python",
   "nbconvert_exporter": "python",
   "pygments_lexer": "ipython3",
   "version": "3.7.9"
  }
 },
 "nbformat": 4,
 "nbformat_minor": 5
}
