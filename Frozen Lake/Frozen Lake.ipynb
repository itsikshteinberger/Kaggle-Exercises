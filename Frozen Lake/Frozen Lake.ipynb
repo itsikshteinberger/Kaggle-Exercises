{
 "cells": [
  {
   "cell_type": "markdown",
   "id": "committed-gazette",
   "metadata": {},
   "source": [
    "# Frozen Lake - Reinforcement Learning Homework\n",
    "<br/>__Project Objective: To teach the agent to move to the target in the frozen lake without falling into a hole__ <br/><br/>\n",
    "__For more details [click here!](https://www.kaggle.com/c/108-2-ntut-drl-hw1)__<br/>\n",
    "\n",
    "#### Work Plan:\n",
    "* Determine the parameters\n",
    "* Train the agent by exploration and exploitation (ε - greedy)\n",
    "* Examine the agent's behavior in real time\n"
   ]
  },
  {
   "cell_type": "code",
   "execution_count": 1,
   "id": "removed-detector",
   "metadata": {},
   "outputs": [],
   "source": [
    "#First and foremost: make an import to all the necessary libraries\n",
    "import gym\n",
    "import random\n",
    "import time\n",
    "from IPython.display import clear_output\n",
    "import numpy as np\n",
    "import matplotlib.pyplot as plt"
   ]
  },
  {
   "cell_type": "code",
   "execution_count": 2,
   "id": "interested-disaster",
   "metadata": {},
   "outputs": [],
   "source": [
    "#Make the environment\n",
    "env = gym.make(\"FrozenLake-v1\")"
   ]
  },
  {
   "cell_type": "code",
   "execution_count": 3,
   "id": "executed-operation",
   "metadata": {},
   "outputs": [],
   "source": [
    "#Define an empty Q table\n",
    "actions_space_size = env.action_space.n\n",
    "states_space_size = env.observation_space.n\n",
    "Q_table = np.zeros((states_space_size, actions_space_size))"
   ]
  },
  {
   "cell_type": "code",
   "execution_count": 4,
   "id": "extended-tiger",
   "metadata": {},
   "outputs": [
    {
     "data": {
      "text/plain": [
       "array([[0., 0., 0., 0.],\n",
       "       [0., 0., 0., 0.],\n",
       "       [0., 0., 0., 0.],\n",
       "       [0., 0., 0., 0.],\n",
       "       [0., 0., 0., 0.],\n",
       "       [0., 0., 0., 0.],\n",
       "       [0., 0., 0., 0.],\n",
       "       [0., 0., 0., 0.],\n",
       "       [0., 0., 0., 0.],\n",
       "       [0., 0., 0., 0.],\n",
       "       [0., 0., 0., 0.],\n",
       "       [0., 0., 0., 0.],\n",
       "       [0., 0., 0., 0.],\n",
       "       [0., 0., 0., 0.],\n",
       "       [0., 0., 0., 0.],\n",
       "       [0., 0., 0., 0.]])"
      ]
     },
     "execution_count": 4,
     "metadata": {},
     "output_type": "execute_result"
    }
   ],
   "source": [
    "Q_table"
   ]
  },
  {
   "cell_type": "code",
   "execution_count": 5,
   "id": "upper-narrative",
   "metadata": {},
   "outputs": [],
   "source": [
    "#All fixed parameters\n",
    "eposides_number = 10000\n",
    "steps_per_eposide = 100\n",
    "\n",
    "learning_rate = 0.1\n",
    "discount_rate = 0.99\n",
    "\n",
    "P_exploration = 1 \n",
    "max_exploration = 1\n",
    "min_exploration= 0.1\n",
    "exploration_decay = 0.001"
   ]
  },
  {
   "cell_type": "markdown",
   "id": "becoming-maryland",
   "metadata": {},
   "source": [
    "Now, we update the q table by the following equation:\n",
    "![](data:image/png;base64,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)\n",
    "When the s' (next-state) is selected according to ε greedy"
   ]
  },
  {
   "cell_type": "code",
   "execution_count": 6,
   "id": "developed-marketplace",
   "metadata": {},
   "outputs": [],
   "source": [
    "rewards = np.zeros([eposides_number])\n",
    "\n",
    "for eposide in range(eposides_number):\n",
    "    state = env.reset()\n",
    "    \n",
    "    done = False\n",
    "    rewards_current_eposide = 0\n",
    "    \n",
    "    for step in range(steps_per_eposide):\n",
    "        \n",
    "        #Next state choosing by exploration and exploitation\n",
    "        \n",
    "        exploration_rate_treshold = random.uniform(0, 1)\n",
    "        \n",
    "        if exploration_rate_treshold > P_exploration:\n",
    "            action = np.argmax(Q_table[state,:])\n",
    "        else:\n",
    "            action = env.action_space.sample()\n",
    "        \n",
    "        #Agent movement\n",
    "        \n",
    "        new_state, reward, done, info = env.step(action)\n",
    "        \n",
    "        #Update Q TABLE according to the equation\n",
    "        \n",
    "        Q_table[state,action] = Q_table[state, action] * (1 - learning_rate) + \\\n",
    "                                learning_rate * (reward + discount_rate * np.max(Q_table[new_state, :]))\n",
    "        \n",
    "        state = new_state\n",
    "        rewards_current_eposide += reward\n",
    "        \n",
    "        \n",
    "        \n",
    "        if done == True:\n",
    "            break\n",
    "    \n",
    "    #Decrease the probability of exploration, \n",
    "    #(as we progress with our information - it makes less sense to choose an exploration)\n",
    "    \n",
    "    P_exploration = min_exploration + (max_exploration - min_exploration) * np.exp(-exploration_decay*eposide)\n",
    "    \n",
    "    rewards[eposide] = rewards_current_eposide\n",
    "    "
   ]
  },
  {
   "cell_type": "code",
   "execution_count": 7,
   "id": "straight-force",
   "metadata": {},
   "outputs": [
    {
     "name": "stdout",
     "output_type": "stream",
     "text": [
      "\n",
      "~ Average reward per 1000 eposides ~\n",
      "\n"
     ]
    },
    {
     "data": {
      "image/png": "[encoded data removed]",
      "text/plain": [
       "<Figure size 432x288 with 1 Axes>"
      ]
     },
     "metadata": {
      "needs_background": "light"
     },
     "output_type": "display_data"
    },
    {
     "name": "stdout",
     "output_type": "stream",
     "text": [
      "\n",
      "~ Q table after training ~\n",
      "\n",
      "[[0.61363138 0.57926822 0.57895729 0.56103275]\n",
      " [0.3505376  0.30724649 0.29107389 0.54131157]\n",
      " [0.4434104  0.44016944 0.44517419 0.50363193]\n",
      " [0.35782672 0.34819598 0.28467599 0.48164546]\n",
      " [0.63110054 0.45737658 0.30038292 0.30702307]\n",
      " [0.         0.         0.         0.        ]\n",
      " [0.17289192 0.15718097 0.34704465 0.22030837]\n",
      " [0.         0.         0.         0.        ]\n",
      " [0.33840553 0.49276942 0.47680699 0.67141665]\n",
      " [0.49107855 0.70790153 0.40518428 0.36618781]\n",
      " [0.6500362  0.59004098 0.43877866 0.33320531]\n",
      " [0.         0.         0.         0.        ]\n",
      " [0.         0.         0.         0.        ]\n",
      " [0.42287562 0.63777591 0.84890204 0.51491474]\n",
      " [0.74517795 0.92778443 0.8289797  0.80025092]\n",
      " [0.         0.         0.         0.        ]]\n"
     ]
    }
   ],
   "source": [
    "reward_per_1000_eposides = np.array(np.split(rewards, eposides_number / 1000))\n",
    "reward_per_1000_eposides = np.average(reward_per_1000_eposides, axis=1)\n",
    "\n",
    "print(\"\\n~ Average reward per 1000 eposides ~\\n\")\n",
    "\n",
    "plt.plot(range(0,10), reward_per_1000_eposides, 'c')\n",
    "plt.yticks([])\n",
    "plt.show()\n",
    "\n",
    "print(\"\\n~ Q table after training ~\\n\")\n",
    "\n",
    "print(Q_table)"
   ]
  },
  {
   "cell_type": "code",
   "execution_count": 12,
   "id": "varying-brunswick",
   "metadata": {},
   "outputs": [
    {
     "name": "stdout",
     "output_type": "stream",
     "text": [
      "  (Down)\n",
      "SFFF\n",
      "FHFH\n",
      "FFFH\n",
      "HFF\u001b[41mG\u001b[0m\n",
      "Success\n"
     ]
    }
   ],
   "source": [
    "#Examining the agent in real time (5-times)\n",
    "\n",
    "for eposide in range(5):\n",
    "    \n",
    "    state = env.reset()\n",
    "    done = False\n",
    "    \n",
    "    time.sleep(0.5)\n",
    "    \n",
    "    for step in range(steps_per_eposide):\n",
    "        clear_output(wait = True)\n",
    "        env.render()\n",
    "        time.sleep(0.1)\n",
    "        \n",
    "        action = np.argmax(Q_table[state, :])  \n",
    "        new_state, reward, done, info = env.step(action)\n",
    "        \n",
    "        if done == True:\n",
    "            clear_output(wait = True)\n",
    "            env.render()\n",
    "            \n",
    "            if reward == 1:\n",
    "                print(\"Success\")\n",
    "                time.sleep(1)\n",
    "            if reward == 0:\n",
    "                print(\"Failure\")\n",
    "                time.sleep(1)\n",
    "                \n",
    "            clear_output(wait = True)\n",
    "            break\n",
    "            \n",
    "        state = new_state\n",
    "        \n",
    "env.close()"
   ]
  },
  {
   "cell_type": "markdown",
   "id": "exclusive-meter",
   "metadata": {},
   "source": [
    "The agent seems to have learned something today :)"
   ]
  }
 ],
 "metadata": {
  "kernelspec": {
   "display_name": "Python 3",
   "language": "python",
   "name": "python3"
  },
  "language_info": {
   "codemirror_mode": {
    "name": "ipython",
    "version": 3
   },
   "file_extension": ".py",
   "mimetype": "text/x-python",
   "name": "python",
   "nbconvert_exporter": "python",
   "pygments_lexer": "ipython3",
   "version": "3.7.9"
  }
 },
 "nbformat": 4,
 "nbformat_minor": 5
}
